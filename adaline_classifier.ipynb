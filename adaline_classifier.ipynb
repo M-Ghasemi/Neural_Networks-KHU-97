{
 "cells": [
  {
   "cell_type": "code",
   "execution_count": 95,
   "metadata": {},
   "outputs": [],
   "source": [
    "import numpy as np\n",
    "import matplotlib.pyplot as plt"
   ]
  },
  {
   "cell_type": "code",
   "execution_count": 96,
   "metadata": {},
   "outputs": [],
   "source": [
    "# INPUT DATA\n",
    "P = np.array(\n",
    "    [\n",
    "        [0.7, 0.2],\n",
    "        [-0.1, 0.9],\n",
    "        [-0.3, 0.3],\n",
    "        [0.1, 0.2],\n",
    "        [0.5, -0.5]\n",
    "    ])\n",
    "# DESIRED OUTPUT\n",
    "T = np.array([1, 1, 0, 0, 0])\n",
    "\n",
    "# INITIAL WEIGHTS\n",
    "W = np.array([0, 0])\n",
    "b = -1"
   ]
  },
  {
   "cell_type": "code",
   "execution_count": 97,
   "metadata": {},
   "outputs": [],
   "source": [
    "def hardlim(A, threshold=0):\n",
    "    return (A > threshold) * 1"
   ]
  },
  {
   "cell_type": "code",
   "execution_count": 98,
   "metadata": {},
   "outputs": [
    {
     "name": "stdout",
     "output_type": "stream",
     "text": [
      "epochs: 1\n",
      "W: [0.6 1.1], b: 1\n",
      "\n",
      "epochs: 2\n",
      "W: [0.3 1.1], b: -2\n",
      "\n",
      "epochs: 3\n",
      "W: [0.9 2.2], b: 0\n",
      "\n",
      "epochs: 4\n",
      "W: [1.1 1.7], b: -2\n",
      "\n",
      "epochs: 5\n",
      "W: [1.7 2.8], b: 0\n",
      "\n",
      "epochs: 6\n",
      "W: [1.9 2.3], b: -2\n",
      "\n",
      "epochs: 7\n",
      "W: [2.5 3.4], b: 0\n",
      "\n",
      "epochs: 8\n",
      "W: [2.7 2.9], b: -2\n",
      "\n",
      "epochs: 9\n",
      "W: [2.7 2.9], b: -2\n",
      "\n"
     ]
    }
   ],
   "source": [
    "n_epochs = 0\n",
    "maximum_epoch = 100\n",
    "Y = hardlim(W.dot(P.T) + b)\n",
    "\n",
    "while np.any(Y != T) and n_epochs < maximum_epoch:\n",
    "    Y = hardlim(W.dot(P.T) + b)\n",
    "\n",
    "    E = T - Y\n",
    "    dW = E.dot(P)\n",
    "    db = sum(E)\n",
    "    W = W + dW\n",
    "    b = b + db\n",
    "\n",
    "    n_epochs += 1\n",
    "    print(f'epochs: {n_epochs}')\n",
    "    print(f'W: {W}, b: {b}')\n",
    "    print()\n"
   ]
  },
  {
   "cell_type": "code",
   "execution_count": 99,
   "metadata": {},
   "outputs": [
    {
     "data": {
      "text/plain": [
       "[<matplotlib.lines.Line2D at 0x7f852d9b8518>]"
      ]
     },
     "execution_count": 99,
     "metadata": {},
     "output_type": "execute_result"
    },
    {
     "data": {
      "image/png": "[encoded data removed]",
      "text/plain": [
       "<Figure size 576x576 with 1 Axes>"
      ]
     },
     "metadata": {
      "needs_background": "light"
     },
     "output_type": "display_data"
    }
   ],
   "source": [
    "%matplotlib inline\n",
    "fig = plt.figure(figsize=(8,8))\n",
    "plt.scatter(P[:, 0], P[:, 1], c=T, marker='s', s=50)\n",
    "for p in P:\n",
    "    plt.annotate(\n",
    "        '(%s, %s)' % (p[0], p[1]), \n",
    "        xy=(p[0], p[1]), \n",
    "        xytext=(0, -10),\n",
    "        textcoords='offset points', \n",
    "        ha='center', \n",
    "        va='top')\n",
    "plt.xlabel('P(1)')\n",
    "plt.ylabel('P(2)')\n",
    "\n",
    "# DECISION BOUNDARY\n",
    "P1_range = np.arange(min(P[:, 0]), max(P[:, 0] + 0.1), 0.1)\n",
    "P2_range = -1 * (W[0] * P1_range + b) / W[1]\n",
    "plt.plot(P1_range, P2_range, 'r--')"
   ]
  }
 ],
 "metadata": {
  "kernelspec": {
   "display_name": "Python 3",
   "language": "python",
   "name": "python3"
  },
  "language_info": {
   "codemirror_mode": {
    "name": "ipython",
    "version": 3
   },
   "file_extension": ".py",
   "mimetype": "text/x-python",
   "name": "python",
   "nbconvert_exporter": "python",
   "pygments_lexer": "ipython3",
   "version": "3.6.6"
  }
 },
 "nbformat": 4,
 "nbformat_minor": 2
}
