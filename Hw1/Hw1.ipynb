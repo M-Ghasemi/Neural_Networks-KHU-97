{
 "cells": [
  {
   "cell_type": "markdown",
   "metadata": {},
   "source": [
    "# HOMEWORK 1\n",
    "## Mohammad Sadegh Ghasemi\n",
    "### Problems are in file ANN-97-1-Hw1.pdf and Solutions are written in ANN-97-1-Hw1_Solutions.pdf"
   ]
  },
  {
   "cell_type": "markdown",
   "metadata": {},
   "source": [
    "## QUESTION 1\n",
    "## تمرین ۱-الف\n",
    "#### PERCEPTROP"
   ]
  },
  {
   "cell_type": "code",
   "execution_count": 1,
   "metadata": {},
   "outputs": [],
   "source": [
    "import numpy as np\n",
    "import matplotlib.pyplot as plt\n",
    "from perceptron import Perceptron"
   ]
  },
  {
   "cell_type": "markdown",
   "metadata": {},
   "source": [
    "#### EXAMPLE 1"
   ]
  },
  {
   "cell_type": "code",
   "execution_count": 2,
   "metadata": {},
   "outputs": [
    {
     "name": "stdout",
     "output_type": "stream",
     "text": [
      "W: [ 1.01624345  0.99388244 -3.00528172  0.98927031  1.00865408]\n"
     ]
    }
   ],
   "source": [
    "# INPUT DATA\n",
    "X = np.array([\n",
    "    [1, -1, -1, -1],\n",
    "    [1, 1, -1, -1],\n",
    "    [1, 1, 1, 1]])\n",
    "# DESIRED (REAL) OUTPUT\n",
    "Y = np.array([1, -1, 1])\n",
    "\n",
    "perceptron = Perceptron()\n",
    "perceptron.fit(X, Y)\n",
    "print(f'W: {perceptron.w_}')"
   ]
  },
  {
   "cell_type": "markdown",
   "metadata": {},
   "source": [
    "#### EXAMPLE 2"
   ]
  },
  {
   "cell_type": "code",
   "execution_count": 3,
   "metadata": {},
   "outputs": [
    {
     "name": "stdout",
     "output_type": "stream",
     "text": [
      "W: [-2.98375655  4.49388244  4.39471828]\n"
     ]
    }
   ],
   "source": [
    "# INPUT DATA\n",
    "P = np.array(\n",
    "    [\n",
    "        [0.7, 0.2],\n",
    "        [-0.1, 0.9],\n",
    "        [-0.3, 0.3],\n",
    "        [0.1, 0.2],\n",
    "        [0.5, -0.5]\n",
    "    ])\n",
    "# DESIRED OUTPUT\n",
    "T = np.array([1, 1, -1, -1, -1])\n",
    "\n",
    "perceptron.fit(P, T)\n",
    "print(f'W: {perceptron.w_}')"
   ]
  },
  {
   "cell_type": "markdown",
   "metadata": {},
   "source": [
    "#### VISUALIZATION"
   ]
  },
  {
   "cell_type": "code",
   "execution_count": 4,
   "metadata": {},
   "outputs": [
    {
     "data": {
      "text/plain": [
       "[<matplotlib.lines.Line2D at 0x7f36701cd908>]"
      ]
     },
     "execution_count": 4,
     "metadata": {},
     "output_type": "execute_result"
    },
    {
     "data": {
      "image/png": "[encoded data removed]",
      "text/plain": [
       "<Figure size 576x576 with 1 Axes>"
      ]
     },
     "metadata": {
      "needs_background": "light"
     },
     "output_type": "display_data"
    }
   ],
   "source": [
    "%matplotlib inline\n",
    "fig = plt.figure(figsize=(8,8))\n",
    "plt.scatter(P[:, 0], P[:, 1], c=T, marker='s', s=50)\n",
    "for p in P:\n",
    "    plt.annotate(\n",
    "        '(%s, %s)' % (p[0], p[1]), \n",
    "        xy=(p[0], p[1]), \n",
    "        xytext=(0, -10),\n",
    "        textcoords='offset points', \n",
    "        ha='center', \n",
    "        va='top')\n",
    "plt.xlabel('P(1)')\n",
    "plt.ylabel('P(2)')\n",
    "\n",
    "W = perceptron.w_\n",
    "# DECISION BOUNDARY\n",
    "P1 = [round(min(P[:, 0]) - 1), round(max(P[:, 0]) + 1)]\n",
    "P2 = [-((W[1] * p1) + W[0]) / W[2] for p1 in P1]\n",
    "\n",
    "plt.plot(P1, P2, 'r--')\n"
   ]
  },
  {
   "cell_type": "markdown",
   "metadata": {},
   "source": [
    "## Q1_3\n",
    "## تمرین ۱-ج\n",
    "### IRIS DATA SET CLASSIFICATION USING PERCEPTRON"
   ]
  },
  {
   "cell_type": "code",
   "execution_count": 5,
   "metadata": {},
   "outputs": [
    {
     "data": {
      "text/plain": [
       "<matplotlib.legend.Legend at 0x7f365ad97240>"
      ]
     },
     "execution_count": 5,
     "metadata": {},
     "output_type": "execute_result"
    },
    {
     "data": {
      "image/png": "[encoded data removed]",
      "text/plain": [
       "<Figure size 432x288 with 1 Axes>"
      ]
     },
     "metadata": {
      "needs_background": "light"
     },
     "output_type": "display_data"
    }
   ],
   "source": [
    "import pandas as pd\n",
    "\n",
    "\n",
    "df = pd.read_csv('iris.data',header=None)\n",
    "y = df.iloc[0:100, 4].values\n",
    "y = np.where(y == 'Iris-setosa', -1, 1)\n",
    "X = df.iloc[0:100, [0, 2]].values\n",
    "plt.scatter(X[:50, 0], X[:50, 1],color='red', marker='o', label='setosa')\n",
    "plt.scatter(X[50:100, 0], X[50:100, 1],color='blue', marker='x', label='versicolor')\n",
    "plt.xlabel('sepal length [cm]')\n",
    "plt.ylabel('petal length [cm]')\n",
    "plt.legend(loc='upper left')"
   ]
  },
  {
   "cell_type": "markdown",
   "metadata": {},
   "source": [
    "### ERROR CHART"
   ]
  },
  {
   "cell_type": "code",
   "execution_count": 6,
   "metadata": {},
   "outputs": [
    {
     "data": {
      "text/plain": [
       "Text(0, 0.5, 'Error')"
      ]
     },
     "execution_count": 6,
     "metadata": {},
     "output_type": "execute_result"
    },
    {
     "data": {
      "image/png": "[encoded data removed]",
      "text/plain": [
       "<Figure size 432x288 with 1 Axes>"
      ]
     },
     "metadata": {
      "needs_background": "light"
     },
     "output_type": "display_data"
    }
   ],
   "source": [
    "perceptron = Perceptron()\n",
    "\n",
    "errors = list()\n",
    "for i in range(1, 501):\n",
    "    perceptron.n_iter = i\n",
    "    perceptron.fit(X, y)\n",
    "    errors.append(sum(perceptron.predict(X) != y))\n",
    "\n",
    "plt.plot(range(1, len(errors) + 1), errors, color='r')\n",
    "plt.xlabel('Iteration')\n",
    "plt.ylabel('Error')"
   ]
  },
  {
   "cell_type": "markdown",
   "metadata": {},
   "source": [
    "### DECISION BOUNDARY PLOT"
   ]
  },
  {
   "cell_type": "code",
   "execution_count": 7,
   "metadata": {},
   "outputs": [
    {
     "name": "stdout",
     "output_type": "stream",
     "text": [
      "W: [-1.98375655 -4.50611756  8.99471828]\n"
     ]
    },
    {
     "data": {
      "image/png": "[encoded data removed]",
      "text/plain": [
       "<Figure size 432x288 with 1 Axes>"
      ]
     },
     "metadata": {
      "needs_background": "light"
     },
     "output_type": "display_data"
    }
   ],
   "source": [
    "plt.scatter(X[:50, 0], X[:50, 1],color='red', marker='o', label='setosa')\n",
    "plt.scatter(X[50:100, 0], X[50:100, 1],color='blue', marker='x', label='versicolor')\n",
    "plt.xlabel('sepal length [cm]')\n",
    "plt.ylabel('petal length [cm]')\n",
    "plt.legend(loc='upper left')\n",
    "\n",
    "perceptron.n_iter = 501\n",
    "perceptron.fit(X, y)\n",
    "# DECISION BOUNDARY\n",
    "W = perceptron.w_\n",
    "SEPAL = [round(min(X[:, 0])), round(max(X[:, 0]))]\n",
    "PETAL = [-((W[1] * sep) + W[0]) / W[2] for sep in SEPAL]\n",
    "\n",
    "plt.plot(SEPAL, PETAL, 'r--')\n",
    "print(f'W: {perceptron.w_}')"
   ]
  },
  {
   "cell_type": "markdown",
   "metadata": {},
   "source": [
    "***\n",
    "## QUESTION 2\n",
    "## تمرین ۲\n",
    "## Adaline"
   ]
  },
  {
   "cell_type": "markdown",
   "metadata": {},
   "source": [
    "### Classifing the first 100 samples of iris data with 2 features (petal length and petal width)\n",
    "### -1 and 1 are used as labels of setosa and versicolor classes respectively"
   ]
  },
  {
   "cell_type": "code",
   "execution_count": 8,
   "metadata": {},
   "outputs": [],
   "source": [
    "from adaline import Adaline\n",
    "from matplotlib.colors import ListedColormap  # PLOTTING COLOR SETTING"
   ]
  },
  {
   "cell_type": "markdown",
   "metadata": {},
   "source": [
    "### Splitting the first 100 samples"
   ]
  },
  {
   "cell_type": "code",
   "execution_count": 9,
   "metadata": {},
   "outputs": [],
   "source": [
    "y = df.iloc[0:100, 4].values\n",
    "\n",
    "# SETTING LABELS OF SETOSA = -1 AND VERSICOLOR = 1\n",
    "y = np.where(y == 'Iris-setosa', -1, 1)\n",
    "X = df.iloc[0:100, [2, 3]].values"
   ]
  },
  {
   "cell_type": "markdown",
   "metadata": {},
   "source": [
    "### Classifing the data using adaline gradient descent"
   ]
  },
  {
   "cell_type": "code",
   "execution_count": 10,
   "metadata": {},
   "outputs": [
    {
     "data": {
      "text/plain": [
       "<adaline.Adaline at 0x7f365ac96b70>"
      ]
     },
     "execution_count": 10,
     "metadata": {},
     "output_type": "execute_result"
    }
   ],
   "source": [
    "adaline = Adaline()\n",
    "adaline.fit(X, y)"
   ]
  },
  {
   "cell_type": "markdown",
   "metadata": {},
   "source": [
    "### Plotting the data and the decision boundary"
   ]
  },
  {
   "cell_type": "code",
   "execution_count": 11,
   "metadata": {},
   "outputs": [
    {
     "name": "stdout",
     "output_type": "stream",
     "text": [
      "W: [-1.59387442  0.41187769  0.56707195]\n"
     ]
    },
    {
     "data": {
      "image/png": "[encoded data removed]",
      "text/plain": [
       "<Figure size 432x288 with 1 Axes>"
      ]
     },
     "metadata": {
      "needs_background": "light"
     },
     "output_type": "display_data"
    }
   ],
   "source": [
    "plt.scatter(X[:50, 0], X[:50, 1],color='red', marker='o', label='setosa')\n",
    "plt.scatter(X[50:100, 0], X[50:100, 1],color='blue', marker='x', label='versicolor')\n",
    "plt.xlabel('sepal length [cm]')\n",
    "plt.ylabel('petal length [cm]')\n",
    "plt.legend(loc='upper left')\n",
    "\n",
    "# DECISION BOUNDARY\n",
    "W = adaline.weight_\n",
    "SEPAL = [round(min(X[:, 0])), round(max(X[:, 0]))]\n",
    "PETAL = [-((W[1] * sep) + W[0]) / W[2] for sep in SEPAL]\n",
    "\n",
    "plt.plot(SEPAL, PETAL, 'r--')\n",
    "print(f'W: {W}')"
   ]
  }
 ],
 "metadata": {
  "kernelspec": {
   "display_name": "Python 3",
   "language": "python",
   "name": "python3"
  },
  "language_info": {
   "codemirror_mode": {
    "name": "ipython",
    "version": 3
   },
   "file_extension": ".py",
   "mimetype": "text/x-python",
   "name": "python",
   "nbconvert_exporter": "python",
   "pygments_lexer": "ipython3",
   "version": "3.6.6"
  }
 },
 "nbformat": 4,
 "nbformat_minor": 2
}
